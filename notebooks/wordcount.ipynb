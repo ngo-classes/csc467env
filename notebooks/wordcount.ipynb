{
 "cells": [
  {
   "cell_type": "code",
   "execution_count": 1,
   "id": "df2181a7-ad5c-4320-9a71-66ed1ec7e76f",
   "metadata": {},
   "outputs": [],
   "source": [
    "import sys\n",
    "import os\n",
    "sys.path.insert(0, '/opt/spark/python')\n",
    "sys.path.insert(0, '/opt/spark/python/lib/py4j-0.10.9.7-src.zip')\n",
    "os.environ['SPARK_HOME'] = '/opt/spark'"
   ]
  },
  {
   "cell_type": "code",
   "execution_count": 2,
   "id": "2b34a510-7d0b-400d-9d63-50d064618bbf",
   "metadata": {},
   "outputs": [
    {
     "name": "stderr",
     "output_type": "stream",
     "text": [
      "Setting default log level to \"WARN\".\n",
      "To adjust logging level use sc.setLogLevel(newLevel). For SparkR, use setLogLevel(newLevel).\n",
      "25/05/22 21:45:28 WARN NativeCodeLoader: Unable to load native-hadoop library for your platform... using builtin-java classes where applicable\n"
     ]
    }
   ],
   "source": [
    "import pyspark\n",
    "\n",
    "conf = pyspark.SparkConf()\n",
    "conf.setMaster(\"spark://spark-master:7077\")\n",
    "conf.set(\"spark.driver.memory\",\"1g\")\n",
    "\n",
    "sc = pyspark.SparkContext(conf=conf)"
   ]
  },
  {
   "cell_type": "code",
   "execution_count": 7,
   "id": "91b41863-3e87-4771-b42b-5d8a1e612ab9",
   "metadata": {},
   "outputs": [],
   "source": [
    "textFile = sc.textFile(\"/data/gutenberg-shakespeare.txt\")"
   ]
  },
  {
   "cell_type": "code",
   "execution_count": 8,
   "id": "51221d87-9db4-47b5-aca4-1026abfd2fad",
   "metadata": {},
   "outputs": [
    {
     "name": "stderr",
     "output_type": "stream",
     "text": [
      "                                                                                "
     ]
    }
   ],
   "source": [
    "wordcount = textFile.flatMap(lambda line: line.split(\" \")) \\\n",
    "            .map(lambda word: (word, 1)) \\\n",
    "            .reduceByKey(lambda a, b: a + b)\n",
    "wordcount.saveAsTextFile(\"/data/output-wordcount-01\")"
   ]
  },
  {
   "cell_type": "code",
   "execution_count": 10,
   "id": "6f028326-d766-4db0-bcda-d51b260fc7d0",
   "metadata": {},
   "outputs": [
    {
     "name": "stdout",
     "output_type": "stream",
     "text": [
      "total 1.1M\n",
      "-rw-r--r-- 1 root root 559K May 22 21:46 part-00000\n",
      "-rw-r--r-- 1 root root 556K May 22 21:46 part-00001\n",
      "-rw-r--r-- 1 root root    0 May 22 21:46 _SUCCESS\n"
     ]
    }
   ],
   "source": [
    "!ls -lh /data/output-wordcount-01"
   ]
  },
  {
   "cell_type": "code",
   "execution_count": null,
   "id": "61b8b690-4298-479c-bb0c-197ddfb6a378",
   "metadata": {},
   "outputs": [],
   "source": []
  }
 ],
 "metadata": {
  "kernelspec": {
   "display_name": "Python 3 (ipykernel)",
   "language": "python",
   "name": "python3"
  },
  "language_info": {
   "codemirror_mode": {
    "name": "ipython",
    "version": 3
   },
   "file_extension": ".py",
   "mimetype": "text/x-python",
   "name": "python",
   "nbconvert_exporter": "python",
   "pygments_lexer": "ipython3",
   "version": "3.10.12"
  }
 },
 "nbformat": 4,
 "nbformat_minor": 5
}
